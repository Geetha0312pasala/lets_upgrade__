{
  "nbformat": 4,
  "nbformat_minor": 0,
  "metadata": {
    "colab": {
      "name": "python3.ipynb",
      "provenance": [],
      "authorship_tag": "ABX9TyO+4yVJf/ax5V6AK7OktCRA",
      "include_colab_link": true
    },
    "kernelspec": {
      "name": "python3",
      "display_name": "Python 3"
    }
  },
  "cells": [
    {
      "cell_type": "markdown",
      "metadata": {
        "id": "view-in-github",
        "colab_type": "text"
      },
      "source": [
        "<a href=\"https://colab.research.google.com/github/Geetha0312pasala/lets_upgrade__/blob/master/python3.ipynb\" target=\"_parent\"><img src=\"https://colab.research.google.com/assets/colab-badge.svg\" alt=\"Open In Colab\"/></a>"
      ]
    },
    {
      "cell_type": "code",
      "metadata": {
        "id": "iNXPBgLptDrb",
        "colab_type": "code",
        "colab": {}
      },
      "source": [
        ""
      ],
      "execution_count": null,
      "outputs": []
    },
    {
      "cell_type": "markdown",
      "metadata": {
        "id": "QwgNMZtwtH_1",
        "colab_type": "text"
      },
      "source": [
        "**pilot**"
      ]
    },
    {
      "cell_type": "code",
      "metadata": {
        "id": "ijRw2qfPtQuq",
        "colab_type": "code",
        "colab": {
          "base_uri": "https://localhost:8080/",
          "height": 51
        },
        "outputId": "25e9c9be-0a15-4c23-e9a9-e3589be62396"
      },
      "source": [
        "altitude=int(input())\n",
        "if (altitude<=1000):\n",
        "  print(\"safe to land\")\n",
        "elif (altitude>1000 and altitude<5000):\n",
        "  print(\"bring down to 1000\")\n",
        "elif (altitude>5000):\n",
        "  print(\"turn around\")"
      ],
      "execution_count": 2,
      "outputs": [
        {
          "output_type": "stream",
          "text": [
            "900\n",
            "safe to land\n"
          ],
          "name": "stdout"
        }
      ]
    },
    {
      "cell_type": "code",
      "metadata": {
        "id": "UKRZrEuPtOaN",
        "colab_type": "code",
        "colab": {
          "base_uri": "https://localhost:8080/",
          "height": 51
        },
        "outputId": "d1879241-ed0f-478e-98ef-8c68dcfcce77"
      },
      "source": [
        "altitude=int(input())\n",
        "if (altitude<=1000):\n",
        "  print(\"safe to land\")\n",
        "elif (altitude>1000 and altitude<5000):\n",
        "  print(\"bring down to 1000\")\n",
        "elif (altitude>5000):\n",
        "  print(\"turn around\")"
      ],
      "execution_count": 3,
      "outputs": [
        {
          "output_type": "stream",
          "text": [
            "2000\n",
            "bring down to 1000\n"
          ],
          "name": "stdout"
        }
      ]
    },
    {
      "cell_type": "code",
      "metadata": {
        "id": "fIDi55wIunaK",
        "colab_type": "code",
        "colab": {
          "base_uri": "https://localhost:8080/",
          "height": 51
        },
        "outputId": "1124e3f4-3e4b-440d-be91-c3d3421e4b76"
      },
      "source": [
        "altitude=int(input())\n",
        "if (altitude<=1000):\n",
        "  print(\"safe to land\")\n",
        "elif (altitude>1000 and altitude<5000):\n",
        "  print(\"bring down to 1000\")\n",
        "elif (altitude>5000):\n",
        "  print(\"turn around\")"
      ],
      "execution_count": 4,
      "outputs": [
        {
          "output_type": "stream",
          "text": [
            "6000\n",
            "turn around\n"
          ],
          "name": "stdout"
        }
      ]
    },
    {
      "cell_type": "code",
      "metadata": {
        "id": "6AmDllyDuuc_",
        "colab_type": "code",
        "colab": {}
      },
      "source": [
        ""
      ],
      "execution_count": null,
      "outputs": []
    },
    {
      "cell_type": "markdown",
      "metadata": {
        "id": "HdE6WsS7u22w",
        "colab_type": "text"
      },
      "source": [
        "**for** **loop**"
      ]
    },
    {
      "cell_type": "code",
      "metadata": {
        "id": "l-c_nmNgu8Qf",
        "colab_type": "code",
        "colab": {
          "base_uri": "https://localhost:8080/",
          "height": 816
        },
        "outputId": "eb635234-0674-4b42-c3e0-4738abd6e1a8"
      },
      "source": [
        "n=int(input())\n",
        "for num in range(1,n+1):\n",
        "  if (num>1):\n",
        "    for i in range(2,num):\n",
        "      if (num%i==0):\n",
        "        break\n",
        "    else:\n",
        "      print(num)"
      ],
      "execution_count": 12,
      "outputs": [
        {
          "output_type": "stream",
          "text": [
            "200\n",
            "2\n",
            "3\n",
            "5\n",
            "7\n",
            "11\n",
            "13\n",
            "17\n",
            "19\n",
            "23\n",
            "29\n",
            "31\n",
            "37\n",
            "41\n",
            "43\n",
            "47\n",
            "53\n",
            "59\n",
            "61\n",
            "67\n",
            "71\n",
            "73\n",
            "79\n",
            "83\n",
            "89\n",
            "97\n",
            "101\n",
            "103\n",
            "107\n",
            "109\n",
            "113\n",
            "127\n",
            "131\n",
            "137\n",
            "139\n",
            "149\n",
            "151\n",
            "157\n",
            "163\n",
            "167\n",
            "173\n",
            "179\n",
            "181\n",
            "191\n",
            "193\n",
            "197\n",
            "199\n"
          ],
          "name": "stdout"
        }
      ]
    },
    {
      "cell_type": "code",
      "metadata": {
        "id": "Ryn_1oAMvTD9",
        "colab_type": "code",
        "colab": {}
      },
      "source": [
        ""
      ],
      "execution_count": null,
      "outputs": []
    }
  ]
}